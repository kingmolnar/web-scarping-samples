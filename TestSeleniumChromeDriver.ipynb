{
 "cells": [
  {
   "cell_type": "markdown",
   "metadata": {},
   "source": [
    "# Web Scraping \n",
    "\n",
    "The following example has been modified for the ARC system from the original\n",
    "https://medium.com/@pyzzled/running-headless-chrome-with-selenium-in-python-3f42d1f5ff1d"
   ]
  },
  {
   "cell_type": "code",
   "execution_count": 6,
   "metadata": {
    "ExecuteTime": {
     "end_time": "2018-07-21T18:44:54.655330",
     "start_time": "2018-07-21T18:44:52.760350"
    },
    "collapsed": false,
    "jupyter": {
     "outputs_hidden": false
    }
   },
   "outputs": [
    {
     "data": {
      "text/plain": [
       "True"
      ]
     },
     "execution_count": 6,
     "metadata": {},
     "output_type": "execute_result"
    }
   ],
   "source": [
    "from selenium import webdriver\n",
    "from selenium.webdriver.chrome.options import Options\n",
    "import os\n",
    "chrome_options = Options()\n",
    "chrome_options.add_argument(\"--headless\")\n",
    "\n",
    "chrome_options.add_argument(\"--window-size=1920x1080\")\n",
    "chrome_driver = '/usr/lib64/chromium-browser/chromedriver'\n",
    "\n",
    "driver = webdriver.Chrome(options=chrome_options, executable_path=chrome_driver)\n",
    "\n",
    "\n",
    "# driver.get(\"http://google.com\")\n",
    "driver.get(\"http://arc.insight.gsu.edu\")\n",
    "\n",
    "# process DOM, extract information, take a screen shot\n",
    "driver.save_screenshot('capture.png')\n",
    "\n",
    "# make sure to terminate the browser process\n",
    "# driver.close()  # Don’t forget to call these commands when you’re done\n",
    "# driver.quit()   # Otherwise the Chrome Browser application keeps running and taking up major resources\n"
   ]
  },
  {
   "cell_type": "markdown",
   "metadata": {
    "ExecuteTime": {
     "end_time": "2018-07-21T18:44:29.987949",
     "start_time": "2018-07-21T18:44:29.984593"
    }
   },
   "source": [
    "Please, check on the command line for any **zombie browsers**!"
   ]
  },
  {
   "cell_type": "code",
   "execution_count": 7,
   "metadata": {
    "ExecuteTime": {
     "end_time": "2018-07-21T19:06:52.708519",
     "start_time": "2018-07-21T19:06:52.628194"
    }
   },
   "outputs": [
    {
     "name": "stdout",
     "output_type": "stream",
     "text": [
      "      7 pmolnar\n"
     ]
    }
   ],
   "source": [
    "%%sh\n",
    "ps axu | grep chrome | grep -- '--headless' |  while read N P L; do echo \"$N\"; done | sort | uniq -c"
   ]
  },
  {
   "cell_type": "code",
   "execution_count": 3,
   "metadata": {},
   "outputs": [
    {
     "name": "stdout",
     "output_type": "stream",
     "text": [
      "-rw-r--r--. 1 pmolnar pmolnar   14539 Sep 10  2018 NPU_M.png\n",
      "-rw-r--r--. 1 pmolnar pmolnar  251852 Nov  4  2019 Sequence2SequenceRNN_with_attention.png\n",
      "-rw-r--r--. 1 pmolnar pmolnar  200352 Sep  9 08:20 capture.png\n",
      "-rw-rw-r--. 1 pmolnar pmolnar  508045 Sep 10  2018 capture2.png\n",
      "-rw-r--r--. 1 pmolnar pmolnar 6543036 Sep 12  2018 fast_false.png\n",
      "-rw-r--r--. 1 pmolnar pmolnar 8380634 Sep 12  2018 fast_true.png\n",
      "-rw-r--r--. 1 pmolnar pmolnar   20302 Sep 11  2018 health_burg_res.png\n",
      "-rw-r--r--. 1 pmolnar pmolnar   87859 Sep 10  2018 iris.png\n"
     ]
    }
   ],
   "source": [
    "ls -l *.png"
   ]
  },
  {
   "cell_type": "code",
   "execution_count": 8,
   "metadata": {},
   "outputs": [
    {
     "data": {
      "text/plain": [
       "True"
      ]
     },
     "execution_count": 8,
     "metadata": {},
     "output_type": "execute_result"
    }
   ],
   "source": [
    "PAGE_URL = 'http://arc.insight.gsu.edu' # 'https://www.bbb.org' ## /us/nc/charlotte/profile/bank/truist-bank-0473-1158/customer-reviews'\n",
    "driver.get(PAGE_URL)\n",
    "# driver.get('https://www.bbb.org/ca/ab/innisfail/profile/electrician/ruttle-electric-ltd-0017-56875')\n",
    "driver.save_screenshot('capture.png')"
   ]
  },
  {
   "cell_type": "code",
   "execution_count": 9,
   "metadata": {},
   "outputs": [
    {
     "data": {
      "text/plain": [
       "'<html><head>\\n    <meta charset=\"utf-8\">\\n    <title>Home</title>\\n    <link rel=\"stylesheet\" href=\"https://stackpath.bootstrapcdn.com/bootstrap/4.1.3/css/bootstrap.min.css\">\\n    <link rel=\"stylesheet\" href=\"/assets/css/styles.css\">\\n  </head>\\n  <body>\\n     <!-- <nav>\\n  \\n    <a href=\"/\" style=\"color: red;\">\\n      Home\\n    </a>\\n  \\n    <a href=\"/about.html\" >\\n      About\\n    </a>\\n  \\n    <a href=\"/blog.html\" >\\n      Blog\\n    </a>\\n  \\n    <a href=\"/examples.html\" >\\n      Code Examples\\n    </a>\\n  \\n    <a href=\"/datasets.html\" >\\n      Data Sets\\n    </a>\\n  \\n</nav> -->\\n<!-- <nav class=\"navbar navbar-expand-md navbar-dark fixed-top bg-dark\"> -->\\n<nav class=\"navbar navbar-expand-md navbar navbar-light fixed-top bg-light\">\\n    <a class=\"navbar-brand\" href=\"https://robinson.gsu.edu/academic-departments/insight/\">Institute for Insight</a>\\n    <button class=\"navbar-toggler\" type=\"button\" data-toggle=\"collapse\" data-target=\"#navbarsExampleDefault\" aria-controls=\"navbarsExampleDefault\" aria-expanded=\"false\" aria-label=\"Toggle navigation\">\\n        <span class=\"navbar-toggler-icon\"></span>\\n    </button>\\n\\n    <div class=\"collapse navbar-collapse\" id=\"navbarsExampleDefault\">\\n        <ul class=\"navbar-nav mr-auto\">\\n        \\n            <li class=\"nav-item active\">\\n                <a class=\"nav-link\" href=\"/\">Home</a>\\n            </li>\\n        \\n            <li class=\"nav-item\">\\n                <a class=\"nav-link\" href=\"/about.html\">About</a>\\n            </li>\\n        \\n            <li class=\"nav-item\">\\n                <a class=\"nav-link\" href=\"/blog.html\">Blog</a>\\n            </li>\\n        \\n            <li class=\"nav-item\">\\n                <a class=\"nav-link\" href=\"/examples.html\">Code Examples</a>\\n            </li>\\n        \\n            <li class=\"nav-item\">\\n                <a class=\"nav-link\" href=\"/datasets.html\">Data Sets</a>\\n            </li>\\n        \\n        \\n            <li class=\"nav-item\">\\n                <a class=\"nav-link\" href=\"https://github.com/institute4insight/institute4insight.github.io/wiki\" targe=\"_blank\">Wiki</a>\\n            </li>\\n        \\n            <li class=\"nav-item\">\\n                <a class=\"nav-link\" href=\"https://github.com/institute4insight/institute4insight.github.io/issues\" targe=\"_blank\">Issues</a>\\n            </li>\\n        \\n        </ul>\\n    </div>\\n</nav>\\n\\n     <main role=\"main\">\\n     <div class=\"jumbotron gsu-blue\">\\n        <div class=\"container\">\\n          <h1 class=\"display-3\">Institute for Insight<br>Computing Resources</h1>\\n          <!-- <p>This is a template for a simple marketing or informational website. It includes a large callout called a jumbotron and three supporting pieces of content. Use it as a starting point to create something more unique.</p>\\n          <p><a class=\"btn btn-primary btn-lg\" href=\"#\" role=\"button\">Learn more &raquo;</a></p> -->\\n        </div>\\n</div>\\n\\n<div class=\"container\">\\n    <div class=\"row\">\\n        <div class=\"col-md-4 panel\">\\n            <h2>Get started on ARC</h2>\\n            Follow the links below to use available web applications:\\n            <ul>\\n            <li>\\n            <!-- Jupyter Notebook <a href=\"https://arc.insight.gsu.edu:8000/\" target=\"_blank\">https://arc.insight.gsu.edu:8000/</a> -->\\n            <a href=\"https://arc.insight.gsu.edu:8000/\" target=\"_blank\">Jupyter Notebook</a>\\n            </li>\\n            <li>\\n            <!-- R-Studio <a href=\"http://arc.insight.gsu.edu:8787/\" target=\"_blank\">http://arc.insight.gsu.edu:8787/</a> -->\\n             <a href=\"http://arc.insight.gsu.edu:8787/\" target=\"_blank\">R-Studio</a>\\n            </li>\\n            </ul>\\n            All resources are only accessible from inside the GSU campus network or VPN.\\n        </div>\\n        <div class=\"col-md-4 panel\">\\n            <h2>Wiki</h2>\\n            <p>\\n                Browse the <a href=\"https://github.com/institute4insight/institute4insight.github.io/wiki\">Wiki</a> to learn\\n                about our resources, installed packages, and documentation on how to use them.\\n            </p>\\n        </div>\\n        <div class=\"col-md-4 panel\">\\n            <h2>Blog</h2>\\n            <p>\\n                Follow our <a href=\"/blog.html\">Blog</a> to stay up-to-date as we improve and expand\\n                our computing resources.\\n            </p>\\n        </div>\\n        <div class=\"col-md-8 panel\">\\n            <h2>Report or review issues</h2>\\n            <p>\\n                Nothing is complete, and sometimes things break. Visit the\\n                <a href=\"https://github.com/institute4insight/institute4insight.github.io/issues\">Issues Page</a>\\n                to report issues concerning our resources. There are two types of tickets:\\n                </p><ol>\\n                    <li>Technical issues to report about things that don\\'t work as expected</li>\\n                    <li>Requests for installing or upgrading software packages</li>\\n                </ol>\\n                Please review existing issues before submitting a new ticket. Some of the concerns may have been\\n                already addressed. <b>Do not include any personal or sensitive information in the ticket!</b>\\n            <p></p>\\n        </div>\\n        <div class=\"col-md-4 panel\">\\n            <h2>Request user account</h2>\\n            <p>\\n                Faculty and researchers sponsor accounts.\\n                 Complete this <a href=\"artifacts/blank_newusers.xlsx\">spread sheet</a> and send it to one of the\\n                  system administrators.\\n            </p>\\n        </div>\\n        <div class=\"col-md-4 panel\">\\n            <h2>Code Examples</h2>\\n            <p>\\n                We curate a list of repositories with code examples, tutorials, class material,\\n                 and other interesting stuff on the <a href=\"/examples.html\">Examples</a> page.\\n                 Most of the content was created by members, students, and invited presenters of the Institute for Insight.\\n            </p>\\n        </div>\\n        <div class=\"col-md-4 panel\">\\n            <h2>Data Sets</h2>\\n            <p>\\n                Check out the list of <a href=\"/datasets.html\">data sets</a> that are available to all users on the systems.\\n            </p>\\n        </div>\\n    </div>\\n</div><!-- .container -->\\n\\n    </main>\\n  <script src=\"https://stackpath.bootstrapcdn.com/bootstrap/4.1.3/js/bootstrap.bundle.min.js\" integrity=\"sha384-pjaaA8dDz/5BgdFUPX6M/9SUZv4d12SUPF0axWc+VRZkx5xU3daN+lYb49+Ax+Tl\" crossorigin=\"anonymous\"></script>\\n  \\n\\n</body></html>'"
      ]
     },
     "execution_count": 9,
     "metadata": {},
     "output_type": "execute_result"
    }
   ],
   "source": [
    "driver.page_source"
   ]
  },
  {
   "cell_type": "code",
   "execution_count": 10,
   "metadata": {
    "ExecuteTime": {
     "end_time": "2018-07-21T18:38:43.012911",
     "start_time": "2018-07-21T18:38:42.964728"
    },
    "collapsed": false,
    "jupyter": {
     "outputs_hidden": false
    }
   },
   "outputs": [],
   "source": [
    "driver.close()\n",
    "driver.quit()"
   ]
  },
  {
   "cell_type": "code",
   "execution_count": null,
   "metadata": {},
   "outputs": [],
   "source": []
  },
  {
   "cell_type": "code",
   "execution_count": null,
   "metadata": {},
   "outputs": [],
   "source": []
  }
 ],
 "metadata": {
  "hide_input": false,
  "kernelspec": {
   "display_name": "Python 3",
   "language": "python",
   "name": "python3"
  },
  "language_info": {
   "codemirror_mode": {
    "name": "ipython",
    "version": 3
   },
   "file_extension": ".py",
   "mimetype": "text/x-python",
   "name": "python",
   "nbconvert_exporter": "python",
   "pygments_lexer": "ipython3",
   "version": "3.8.6"
  },
  "toc": {
   "nav_menu": {
    "height": "30px",
    "width": "252px"
   },
   "navigate_menu": true,
   "number_sections": true,
   "sideBar": true,
   "threshold": 4,
   "toc_cell": false,
   "toc_section_display": "block",
   "toc_window_display": false
  }
 },
 "nbformat": 4,
 "nbformat_minor": 4
}
